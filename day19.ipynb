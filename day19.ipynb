{
 "cells": [
  {
   "cell_type": "code",
   "execution_count": 3,
   "metadata": {},
   "outputs": [],
   "source": [
    "import nltk\n",
    "import pyaudio\n",
    "import speech_recognition as sr\n",
    "import pyttsx3"
   ]
  },
  {
   "cell_type": "code",
   "execution_count": 4,
   "metadata": {},
   "outputs": [],
   "source": [
    "from nltk.chat.util import Chat,reflections"
   ]
  },
  {
   "cell_type": "code",
   "execution_count": 5,
   "metadata": {},
   "outputs": [
    {
     "data": {
      "text/plain": [
       "{'i am': 'you are',\n",
       " 'i was': 'you were',\n",
       " 'i': 'you',\n",
       " \"i'm\": 'you are',\n",
       " \"i'd\": 'you would',\n",
       " \"i've\": 'you have',\n",
       " \"i'll\": 'you will',\n",
       " 'my': 'your',\n",
       " 'you are': 'I am',\n",
       " 'you were': 'I was',\n",
       " \"you've\": 'I have',\n",
       " \"you'll\": 'I will',\n",
       " 'your': 'my',\n",
       " 'yours': 'mine',\n",
       " 'you': 'me',\n",
       " 'me': 'you'}"
      ]
     },
     "execution_count": 5,
     "metadata": {},
     "output_type": "execute_result"
    }
   ],
   "source": [
    "reflections                   #gives planned phrases"
   ]
  },
  {
   "cell_type": "code",
   "execution_count": 6,
   "metadata": {},
   "outputs": [],
   "source": [
    "#nltk.download('all')"
   ]
  },
  {
   "cell_type": "code",
   "execution_count": 20,
   "metadata": {},
   "outputs": [],
   "source": [
    "rules=[# r stands for raw string\n",
    "    #raw string allows us to write patterns also\n",
    "    #tuple(ques,(answers))\n",
    "    (r'aaj garmi (.*) hai', ['mujhe nhi pta %1 hai','main kyu btau',],),\n",
    "    (r'how would i learn nltk',['you may go to official doc',],),\n",
    "    (r'or bta kuch naya taaza',['only maaza','sab mst','all good',],),\n",
    "]"
   ]
  },
  {
   "cell_type": "code",
   "execution_count": 17,
   "metadata": {},
   "outputs": [
    {
     "name": "stdout",
     "output_type": "stream",
     "text": [
      "Question: aaj garmi (.*) hai\n",
      "Answers:\n",
      "\t mujhe nhi pta\n",
      "\t main kyu btau\n",
      "--------------------\n",
      "Question: how would i learn nltk\n",
      "Answers:\n",
      "\t you may go to official doc\n",
      "--------------------\n",
      "Question: or bta kuch naya taaza\n",
      "Answers:\n",
      "\t only maaza\n",
      "\t sab mst\n",
      "\t all good\n",
      "--------------------\n"
     ]
    }
   ],
   "source": [
    "for que,ans in rules:\n",
    "    print('Question:',que)\n",
    "    print('Answers:')\n",
    "    for a in ans:\n",
    "        print('\\t',a)\n",
    "    print('-'*20)"
   ]
  },
  {
   "cell_type": "code",
   "execution_count": 21,
   "metadata": {},
   "outputs": [],
   "source": [
    "cb=Chat(rules,reflections)"
   ]
  },
  {
   "cell_type": "code",
   "execution_count": 22,
   "metadata": {},
   "outputs": [
    {
     "name": "stdout",
     "output_type": "stream",
     "text": [
      "main kyu btau\n"
     ]
    }
   ],
   "source": [
    "question=input('Apna sawaal poocho')\n",
    "resp=cb.respond(question)\n",
    "\n",
    "print(resp)\n",
    "\n",
    "#to get the responses\n",
    "#cb.respond(question)"
   ]
  },
  {
   "cell_type": "code",
   "execution_count": 9,
   "metadata": {},
   "outputs": [
    {
     "name": "stdout",
     "output_type": "stream",
     "text": [
      "only maaza\n",
      "None\n"
     ]
    }
   ],
   "source": [
    "# cb.converse()                  it will take to infinite loop "
   ]
  },
  {
   "cell_type": "code",
   "execution_count": 24,
   "metadata": {},
   "outputs": [
    {
     "name": "stdout",
     "output_type": "stream",
     "text": [
      "Say: Aaj Garmi kitni hai\n"
     ]
    }
   ],
   "source": [
    "import pyttsx3\n",
    "import speech_recognition as sr\n",
    "spEng=pyttsx3.init()\n",
    "spEng.setProperty('rate',150)\n",
    "recognizer=sr.Recognizer()\n",
    "with sr. Microphone() as mic:\n",
    "    print('Say:',end=' ')\n",
    "    audio=recognizer.listen(mic,timeout=1,phrase_time_limit=5)  #phraselimit is used for teh length of speech\n",
    "    try:\n",
    "        text=recognizer.recognize_google(audio)\n",
    "        print(text)\n",
    "        resp=cb.respond(text)\n",
    "        spEng.say(resp)     \n",
    "        spEng.runAndWait()\n",
    "    except Exception as err:\n",
    "        print('\\n Could not recognize')"
   ]
  },
  {
   "cell_type": "code",
   "execution_count": 25,
   "metadata": {},
   "outputs": [],
   "source": [
    "#######       Regular expression\n",
    "#  ()     Capture and group\n",
    "#   .   Any character(except new line)\n",
    "#   *    zero or more occurences of something\n",
    "#  []    set of characters\n",
    "#  a-z   all small alphabets\n",
    "# A-Z    all capital alphabets\n",
    "#  0-9  all numbers\n",
    "#  ^     starting only      eg:  ^my   (anything starting with my)\n",
    "#  $     ending with        eg: do$  (anything ending with do)\n",
    "#  ?     zero or one occurrence only       \n",
    "#   +    one or more occurrences\n",
    "#  {}     exact no. of occurrences      eg:{4},   [a-z]{4}\n",
    "#  \\w     only word characters : alphabets , numbesr and underscore\n",
    "#  \\W     not word characters  \n"
   ]
  },
  {
   "cell_type": "code",
   "execution_count": null,
   "metadata": {},
   "outputs": [],
   "source": [
    "# install this for web development \n",
    "# flask - web framework"
   ]
  },
  {
   "cell_type": "code",
   "execution_count": 26,
   "metadata": {},
   "outputs": [],
   "source": [
    "def specialwala(f):\n",
    "    def ekor():\n",
    "         print('hi')\n",
    "         f()\n",
    "         print('bye')\n",
    "    return ekor    "
   ]
  },
  {
   "cell_type": "code",
   "execution_count": 27,
   "metadata": {},
   "outputs": [],
   "source": [
    "def simple():\n",
    "    print('wow')"
   ]
  },
  {
   "cell_type": "code",
   "execution_count": 28,
   "metadata": {},
   "outputs": [],
   "source": [
    "simple=specialwala(simple)"
   ]
  },
  {
   "cell_type": "code",
   "execution_count": 29,
   "metadata": {},
   "outputs": [
    {
     "name": "stdout",
     "output_type": "stream",
     "text": [
      "hi\n",
      "wow\n",
      "bye\n"
     ]
    }
   ],
   "source": [
    "simple()"
   ]
  },
  {
   "cell_type": "code",
   "execution_count": 30,
   "metadata": {},
   "outputs": [
    {
     "name": "stdout",
     "output_type": "stream",
     "text": [
      "hi\n",
      "wow\n",
      "bye\n"
     ]
    }
   ],
   "source": [
    "simple()"
   ]
  },
  {
   "cell_type": "code",
   "execution_count": null,
   "metadata": {},
   "outputs": [],
   "source": []
  }
 ],
 "metadata": {
  "kernelspec": {
   "display_name": "Python 3",
   "language": "python",
   "name": "python3"
  },
  "language_info": {
   "codemirror_mode": {
    "name": "ipython",
    "version": 3
   },
   "file_extension": ".py",
   "mimetype": "text/x-python",
   "name": "python",
   "nbconvert_exporter": "python",
   "pygments_lexer": "ipython3",
   "version": "3.10.10"
  },
  "orig_nbformat": 4
 },
 "nbformat": 4,
 "nbformat_minor": 2
}
