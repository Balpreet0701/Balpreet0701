{
 "cells": [
  {
   "cell_type": "code",
   "execution_count": 20,
   "metadata": {},
   "outputs": [],
   "source": [
    "import pyttsx3\n",
    "import pyaudio\n",
    "import speech_recognition as sr\n",
    "import nltk"
   ]
  },
  {
   "cell_type": "code",
   "execution_count": 21,
   "metadata": {},
   "outputs": [],
   "source": [
    "spEng= pyttsx3.init()\n",
    "spEng.say('Hi how are you is everything fine')\n",
    "spEng.runAndWait()"
   ]
  },
  {
   "cell_type": "code",
   "execution_count": 22,
   "metadata": {},
   "outputs": [],
   "source": [
    "recognizer=sr.Recognizer()"
   ]
  },
  {
   "cell_type": "code",
   "execution_count": 25,
   "metadata": {},
   "outputs": [
    {
     "name": "stdout",
     "output_type": "stream",
     "text": [
      "Say: Einstein history\n"
     ]
    }
   ],
   "source": [
    "#to record from mike\n",
    "with sr. Microphone() as mic:\n",
    "    print('Say:',end=' ')\n",
    "    audio=recognizer.listen(mic,timeout=1,phrase_time_limit=5)  #phraselimit is used for teh length of speech\n",
    "    try:\n",
    "        text=recognizer.recognize_google(audio)\n",
    "        print(text)\n",
    "    except Exception as err:\n",
    "        print('\\n Could not recognize')\n"
   ]
  },
  {
   "cell_type": "code",
   "execution_count": 26,
   "metadata": {},
   "outputs": [
    {
     "name": "stdout",
     "output_type": "stream",
     "text": [
      "Say: hi good afternoon\n"
     ]
    }
   ],
   "source": [
    "#to record from mike   and will reply by speaking\n",
    "with sr. Microphone() as mic:\n",
    "    print('Say:',end=' ')\n",
    "    audio=recognizer.listen(mic,timeout=1,phrase_time_limit=5)  #phraselimit is used for teh length of speech\n",
    "    try:\n",
    "        text=recognizer.recognize_google(audio)\n",
    "        print(text)\n",
    "        spEng.say(text)\n",
    "        spEng.runAndWait()\n",
    "    except Exception as err:\n",
    "        print('\\n Could not recognize')"
   ]
  },
  {
   "cell_type": "code",
   "execution_count": null,
   "metadata": {},
   "outputs": [],
   "source": []
  },
  {
   "cell_type": "code",
   "execution_count": null,
   "metadata": {},
   "outputs": [],
   "source": []
  }
 ],
 "metadata": {
  "kernelspec": {
   "display_name": "Python 3",
   "language": "python",
   "name": "python3"
  },
  "language_info": {
   "codemirror_mode": {
    "name": "ipython",
    "version": 3
   },
   "file_extension": ".py",
   "mimetype": "text/x-python",
   "name": "python",
   "nbconvert_exporter": "python",
   "pygments_lexer": "ipython3",
   "version": "3.10.10"
  },
  "orig_nbformat": 4
 },
 "nbformat": 4,
 "nbformat_minor": 2
}
