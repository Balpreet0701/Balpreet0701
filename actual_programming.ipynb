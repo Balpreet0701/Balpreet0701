{
 "cells": [
  {
   "cell_type": "code",
   "execution_count": 1,
   "metadata": {},
   "outputs": [],
   "source": [
    "#Actual programming\n",
    "#logics\n",
    "    #1.Conditions\n",
    "    #2.loops\n",
    "    #3. errors\n",
    "    #4.functions\n",
    "    #5. classes\n",
    "    #6. Library"
   ]
  },
  {
   "cell_type": "code",
   "execution_count": 5,
   "metadata": {},
   "outputs": [
    {
     "name": "stdout",
     "output_type": "stream",
     "text": [
      "ye to bada hai\n",
      "ye bhi theek hai\n",
      "ye ho gaya \n"
     ]
    }
   ],
   "source": [
    "#suites in python\n",
    "##########################\n",
    "#statement:\n",
    "#   content\n",
    "#   content\n",
    "#statement2:\n",
    "#   content\n",
    "#   statement3:\n",
    "#       morecontent\n",
    "\n",
    "a=10\n",
    "if a>5:\n",
    "    print(\"ye to bada hai\")\n",
    "    if(a<100):\n",
    "        print(\"ye bhi theek hai\")\n",
    "    print(\"ye ho gaya \")\n",
    "elif(a<-20):\n",
    "    print(\"ye bahut chota hai\")\n",
    "elif(a==3):\n",
    "    print(\"te wala 3 hai\")\n",
    "else:\n",
    "    print(\"ye theek hai\")\n",
    "    print(\"Sab khatam\")    "
   ]
  },
  {
   "cell_type": "code",
   "execution_count": 6,
   "metadata": {},
   "outputs": [],
   "source": [
    "#Conditional statements\n",
    "    #1. if-elif-else\n",
    "#Looping\n",
    "    #1. while-else\n",
    "    #2. for-else\n",
    "    # continue/break\n",
    "#Error handling\n",
    "    #try-except-else-finally\n",
    "#User defined functions\n",
    "    #def\n",
    "    \n",
    "#classes\n",
    "    #class"
   ]
  },
  {
   "cell_type": "code",
   "execution_count": 1,
   "metadata": {},
   "outputs": [
    {
     "name": "stdout",
     "output_type": "stream",
     "text": [
      "hello 20\n",
      "acha ab pta chala\n",
      "hello 17\n",
      "acha ab pta chala\n",
      "hello 14\n",
      "acha ab pta chala\n",
      "hello 11\n",
      "acha ab pta chala\n",
      "hello 8\n",
      "acha ab pta chala\n",
      "hello 5\n",
      "acha ab pta chala\n",
      "hello 2\n",
      "acha ab pta chala\n"
     ]
    }
   ],
   "source": [
    "a=20\n",
    "while a>0:\n",
    "    print('hello',a)\n",
    "    a-=3\n",
    "    if(a==12):\n",
    "        break\n",
    "        print(\"one more\")\n",
    "    else:\n",
    "        print(\"acha ab pta chala\")"
   ]
  },
  {
   "cell_type": "code",
   "execution_count": 2,
   "metadata": {},
   "outputs": [
    {
     "name": "stdout",
     "output_type": "stream",
     "text": [
      "h\n",
      "e\n",
      "l\n",
      "l\n",
      "o\n"
     ]
    }
   ],
   "source": [
    "for i in \"hello\":\n",
    "    print(i)"
   ]
  },
  {
   "cell_type": "code",
   "execution_count": 3,
   "metadata": {},
   "outputs": [
    {
     "name": "stdout",
     "output_type": "stream",
     "text": [
      "+\n",
      "++\n",
      "+++\n",
      "++++\n",
      "+++++\n",
      "++++++\n",
      "+++++++\n",
      "++++++++\n",
      "+++++++++\n",
      "++++++++++\n"
     ]
    }
   ],
   "source": [
    "#for loop\n",
    "for i in range(1,11):\n",
    "    print(i*'+')"
   ]
  },
  {
   "cell_type": "code",
   "execution_count": null,
   "metadata": {},
   "outputs": [],
   "source": [
    "\n",
    "#for-each\n",
    "for obj in collection:\n",
    "    pass"
   ]
  },
  {
   "cell_type": "code",
   "execution_count": 1,
   "metadata": {},
   "outputs": [
    {
     "data": {
      "text/plain": [
       "[8, 'hihi', 'nicenice', 70]"
      ]
     },
     "execution_count": 1,
     "metadata": {},
     "output_type": "execute_result"
    }
   ],
   "source": [
    "#method 1\n",
    "\n",
    "a=[4,'hi','nice',35]\n",
    "b=[]\n",
    "for val in a:\n",
    "    b.append(val*2)\n",
    "b"
   ]
  },
  {
   "cell_type": "code",
   "execution_count": 3,
   "metadata": {},
   "outputs": [
    {
     "data": {
      "text/plain": [
       "[8, 'hihi', 'nicenice', 70]"
      ]
     },
     "execution_count": 3,
     "metadata": {},
     "output_type": "execute_result"
    }
   ],
   "source": [
    "#method 2\n",
    "a=[4,'hi','nice',35]\n",
    "b=[]\n",
    "\n",
    "for i in range(len(a)):\n",
    "    b.append(a[i]*2)\n",
    "b"
   ]
  },
  {
   "cell_type": "code",
   "execution_count": 5,
   "metadata": {},
   "outputs": [
    {
     "data": {
      "text/plain": [
       "[12, 'hihihi', 'nicenicenice', 105]"
      ]
     },
     "execution_count": 5,
     "metadata": {},
     "output_type": "execute_result"
    }
   ],
   "source": [
    "# method 3\n",
    "#comprehensions\n",
    "# for loops which are of one line\n",
    "\n",
    "\n",
    "#list comprehension\n",
    "    #[output for -Loop]                   -Map\n",
    "    #[output for-loop if-condition]       - Filter\n",
    "#dictiionary comprehension\n",
    "    #{key_op:value_op for-loop}\n",
    "#set comprehension\n",
    "    #{output for-loop}\n",
    "#generator comprehension\n",
    "    #(output for-loop)\n",
    "b = [val*3 for val in a]\n",
    "b"
   ]
  },
  {
   "cell_type": "code",
   "execution_count": 6,
   "metadata": {},
   "outputs": [
    {
     "data": {
      "text/plain": [
       "[4, 34, 2, 4, 22, 8]"
      ]
     },
     "execution_count": 6,
     "metadata": {},
     "output_type": "execute_result"
    }
   ],
   "source": [
    "k=[4,7,3,67,34,2,4,45,22,11,9,8]\n",
    "p=[val for val in k if val%2==0]\n",
    "p"
   ]
  },
  {
   "cell_type": "code",
   "execution_count": 9,
   "metadata": {},
   "outputs": [
    {
     "data": {
      "text/plain": [
       "[67]"
      ]
     },
     "execution_count": 9,
     "metadata": {},
     "output_type": "execute_result"
    }
   ],
   "source": [
    "l=[4,7,3,67,2]\n",
    "q=[val for val in l if val%2==1 and val>10]\n",
    "q"
   ]
  },
  {
   "cell_type": "code",
   "execution_count": 11,
   "metadata": {},
   "outputs": [],
   "source": [
    "# ternary operator in python\n",
    "# ye kar dena if-cond else ye wala kar dena"
   ]
  },
  {
   "cell_type": "code",
   "execution_count": 14,
   "metadata": {},
   "outputs": [
    {
     "data": {
      "text/plain": [
       "[2, 14, 6, 134, 34, 1, 2, 90, 22, 22, 18, 4]"
      ]
     },
     "execution_count": 14,
     "metadata": {},
     "output_type": "execute_result"
    }
   ],
   "source": [
    "p=[val * 2 if val%2 ==1 else (val//2 if val<20  else val) for val in k]\n",
    "p"
   ]
  },
  {
   "cell_type": "code",
   "execution_count": 15,
   "metadata": {},
   "outputs": [
    {
     "data": {
      "text/plain": [
       "[4, 7, 3, 67, 34, 2, 4, 45, 22, 11, 9, 8]"
      ]
     },
     "execution_count": 15,
     "metadata": {},
     "output_type": "execute_result"
    }
   ],
   "source": [
    "k\n"
   ]
  },
  {
   "cell_type": "code",
   "execution_count": 17,
   "metadata": {},
   "outputs": [
    {
     "data": {
      "text/plain": [
       "{4: 16, 34: 1156, 2: 4, 22: 484, 8: 64}"
      ]
     },
     "execution_count": 17,
     "metadata": {},
     "output_type": "execute_result"
    }
   ],
   "source": [
    "m={val: val**2 for val in k if val % 2 ==0}\n",
    "m"
   ]
  },
  {
   "cell_type": "code",
   "execution_count": 18,
   "metadata": {},
   "outputs": [
    {
     "name": "stdout",
     "output_type": "stream",
     "text": [
      "4\n",
      "34\n",
      "2\n",
      "22\n",
      "8\n"
     ]
    }
   ],
   "source": [
    "for i in m:\n",
    "    print(i)"
   ]
  },
  {
   "cell_type": "code",
   "execution_count": 19,
   "metadata": {},
   "outputs": [
    {
     "name": "stdout",
     "output_type": "stream",
     "text": [
      "4 16\n",
      "34 1156\n",
      "2 4\n",
      "22 484\n",
      "8 64\n"
     ]
    }
   ],
   "source": [
    "for key,value in m.items():\n",
    "    print(key,value)"
   ]
  },
  {
   "cell_type": "code",
   "execution_count": 20,
   "metadata": {},
   "outputs": [],
   "source": [
    "# User defined functions\n",
    "#############################\n",
    "#syntax\n"
   ]
  },
  {
   "cell_type": "code",
   "execution_count": 24,
   "metadata": {},
   "outputs": [],
   "source": [
    "def function_ka_name():\n",
    "    '''doc strings are mandatory for cooperates\n",
    "    ye kuch kaam nhi krta help ke section me show ho jaega'''\n",
    "    \n",
    "    print('ye kuch kr dega')"
   ]
  },
  {
   "cell_type": "code",
   "execution_count": 25,
   "metadata": {},
   "outputs": [
    {
     "name": "stdout",
     "output_type": "stream",
     "text": [
      "ye kuch kr dega\n"
     ]
    }
   ],
   "source": [
    "function_ka_name()"
   ]
  },
  {
   "cell_type": "code",
   "execution_count": 26,
   "metadata": {},
   "outputs": [
    {
     "name": "stdout",
     "output_type": "stream",
     "text": [
      "Help on function function_ka_name in module __main__:\n",
      "\n",
      "function_ka_name()\n",
      "    doc strings are mandatory for cooperates\n",
      "    ye kuch kaam nhi krta help ke section me show ho jaega\n",
      "\n"
     ]
    }
   ],
   "source": [
    "help(function_ka_name)"
   ]
  },
  {
   "cell_type": "code",
   "execution_count": 27,
   "metadata": {},
   "outputs": [],
   "source": [
    "def ekor(ekvalue,dusrivalue):\n",
    "    return ekvalue*dusrivalue"
   ]
  },
  {
   "cell_type": "code",
   "execution_count": 28,
   "metadata": {},
   "outputs": [
    {
     "data": {
      "text/plain": [
       "20"
      ]
     },
     "execution_count": 28,
     "metadata": {},
     "output_type": "execute_result"
    }
   ],
   "source": [
    "ekor(4,5)"
   ]
  },
  {
   "cell_type": "code",
   "execution_count": 32,
   "metadata": {},
   "outputs": [],
   "source": [
    "def merimarzi(ekvalue,dusrivalue):\n",
    "    print('kuch bhi')\n",
    "    return (ekvalue*dusrivalue)+ ekvalue"
   ]
  },
  {
   "cell_type": "code",
   "execution_count": 33,
   "metadata": {},
   "outputs": [
    {
     "name": "stdout",
     "output_type": "stream",
     "text": [
      "kuch bhi\n"
     ]
    },
    {
     "data": {
      "text/plain": [
       "132"
      ]
     },
     "execution_count": 33,
     "metadata": {},
     "output_type": "execute_result"
    }
   ],
   "source": [
    "## parameter positioning \n",
    "## named parameters should be on right side only\n",
    "merimarzi(dusrivalue=10,ekvalue=12)"
   ]
  },
  {
   "cell_type": "code",
   "execution_count": 34,
   "metadata": {},
   "outputs": [
    {
     "name": "stdout",
     "output_type": "stream",
     "text": [
      "kuch bhi\n"
     ]
    },
    {
     "data": {
      "text/plain": [
       "132"
      ]
     },
     "execution_count": 34,
     "metadata": {},
     "output_type": "execute_result"
    }
   ],
   "source": [
    "merimarzi(12,dusrivalue=10)"
   ]
  },
  {
   "cell_type": "code",
   "execution_count": 35,
   "metadata": {},
   "outputs": [
    {
     "ename": "SyntaxError",
     "evalue": "positional argument follows keyword argument (1481173533.py, line 1)",
     "output_type": "error",
     "traceback": [
      "\u001b[1;36m  Input \u001b[1;32mIn [35]\u001b[1;36m\u001b[0m\n\u001b[1;33m    merimarzi(dusrivalue=10,12)\u001b[0m\n\u001b[1;37m                              ^\u001b[0m\n\u001b[1;31mSyntaxError\u001b[0m\u001b[1;31m:\u001b[0m positional argument follows keyword argument\n"
     ]
    }
   ],
   "source": [
    "merimarzi(dusrivalue=10,12)"
   ]
  },
  {
   "cell_type": "code",
   "execution_count": 38,
   "metadata": {},
   "outputs": [],
   "source": [
    "def kuchor(x=10, *v, **u):\n",
    "    return[i*x for i in v],u"
   ]
  },
  {
   "cell_type": "code",
   "execution_count": 39,
   "metadata": {},
   "outputs": [
    {
     "data": {
      "text/plain": [
       "([18, 24], {'somedata': [3, 4, 5, 6]})"
      ]
     },
     "execution_count": 39,
     "metadata": {},
     "output_type": "execute_result"
    }
   ],
   "source": [
    "kuchor(3,6,8,somedata=[3,4,5,6])"
   ]
  },
  {
   "cell_type": "code",
   "execution_count": null,
   "metadata": {},
   "outputs": [],
   "source": [
    "#anonymous function\n",
    "#Python functions can be:\n",
    " #   1. Assigned as a value\n",
    " # 2. taken as input argument in another function\n",
    " # 3. defined inside another function\n",
    " # 4. return a function as output from another function"
   ]
  },
  {
   "cell_type": "code",
   "execution_count": 1,
   "metadata": {},
   "outputs": [],
   "source": [
    "\n",
    "def abc():\n",
    "    print('hi')"
   ]
  },
  {
   "cell_type": "code",
   "execution_count": 2,
   "metadata": {},
   "outputs": [
    {
     "name": "stdout",
     "output_type": "stream",
     "text": [
      "hi\n"
     ]
    }
   ],
   "source": [
    "abc()"
   ]
  },
  {
   "cell_type": "code",
   "execution_count": 4,
   "metadata": {},
   "outputs": [],
   "source": [
    "k=abc"
   ]
  },
  {
   "cell_type": "code",
   "execution_count": 5,
   "metadata": {},
   "outputs": [
    {
     "data": {
      "text/plain": [
       "<function __main__.abc()>"
      ]
     },
     "execution_count": 5,
     "metadata": {},
     "output_type": "execute_result"
    }
   ],
   "source": [
    "abc"
   ]
  },
  {
   "cell_type": "code",
   "execution_count": 6,
   "metadata": {},
   "outputs": [
    {
     "data": {
      "text/plain": [
       "<function __main__.abc()>"
      ]
     },
     "execution_count": 6,
     "metadata": {},
     "output_type": "execute_result"
    }
   ],
   "source": [
    "k"
   ]
  },
  {
   "cell_type": "code",
   "execution_count": 7,
   "metadata": {},
   "outputs": [
    {
     "name": "stdout",
     "output_type": "stream",
     "text": [
      "hi\n"
     ]
    }
   ],
   "source": [
    "k()"
   ]
  },
  {
   "cell_type": "code",
   "execution_count": 8,
   "metadata": {},
   "outputs": [],
   "source": [
    "def xyz(f):\n",
    "    f()"
   ]
  },
  {
   "cell_type": "code",
   "execution_count": 9,
   "metadata": {},
   "outputs": [
    {
     "name": "stdout",
     "output_type": "stream",
     "text": [
      "hi\n"
     ]
    }
   ],
   "source": [
    "xyz(k)"
   ]
  },
  {
   "cell_type": "code",
   "execution_count": 11,
   "metadata": {},
   "outputs": [],
   "source": [
    "def pqr():\n",
    "    def qrp():\n",
    "        print('hello')\n",
    "        qrp()\n",
    "    pqr()    "
   ]
  },
  {
   "cell_type": "code",
   "execution_count": 15,
   "metadata": {},
   "outputs": [],
   "source": [
    "def pqr():\n",
    "    def qrp():\n",
    "        print('hello')\n",
    "    return qrp\n"
   ]
  },
  {
   "cell_type": "code",
   "execution_count": 16,
   "metadata": {},
   "outputs": [
    {
     "data": {
      "text/plain": [
       "<function __main__.pqr.<locals>.qrp()>"
      ]
     },
     "execution_count": 16,
     "metadata": {},
     "output_type": "execute_result"
    }
   ],
   "source": [
    "x=pqr()\n",
    "x"
   ]
  },
  {
   "cell_type": "code",
   "execution_count": 17,
   "metadata": {},
   "outputs": [
    {
     "name": "stdout",
     "output_type": "stream",
     "text": [
      "hello\n"
     ]
    }
   ],
   "source": [
    "x()"
   ]
  },
  {
   "cell_type": "code",
   "execution_count": 18,
   "metadata": {},
   "outputs": [],
   "source": [
    "#annonymous function - Lambda expression\n",
    "# lambda inp_args:output  (returned)\n",
    "# its always one liner\n",
    "# always return\n",
    "#input arguments can be multiple , optional,keyword,named etc.\n",
    "# output can be simple/conditional/comprehension etc."
   ]
  },
  {
   "cell_type": "code",
   "execution_count": 19,
   "metadata": {},
   "outputs": [
    {
     "name": "stdout",
     "output_type": "stream",
     "text": [
      "68\n"
     ]
    }
   ],
   "source": [
    "def doubler(x):\n",
    "    return x*2\n",
    "m= doubler(34)\n",
    "print(m)\n"
   ]
  },
  {
   "cell_type": "code",
   "execution_count": 20,
   "metadata": {},
   "outputs": [
    {
     "data": {
      "text/plain": [
       "<function __main__.<lambda>(x)>"
      ]
     },
     "execution_count": 20,
     "metadata": {},
     "output_type": "execute_result"
    }
   ],
   "source": [
    "lambda x : x*2"
   ]
  },
  {
   "cell_type": "code",
   "execution_count": 21,
   "metadata": {},
   "outputs": [
    {
     "data": {
      "text/plain": [
       "<function __main__.<lambda>(x)>"
      ]
     },
     "execution_count": 21,
     "metadata": {},
     "output_type": "execute_result"
    }
   ],
   "source": [
    "doubler_L=lambda x : x*2\n",
    "doubler_L"
   ]
  },
  {
   "cell_type": "code",
   "execution_count": 22,
   "metadata": {},
   "outputs": [
    {
     "data": {
      "text/plain": [
       "68"
      ]
     },
     "execution_count": 22,
     "metadata": {},
     "output_type": "execute_result"
    }
   ],
   "source": [
    "doubler_L(34)"
   ]
  },
  {
   "cell_type": "code",
   "execution_count": 23,
   "metadata": {},
   "outputs": [
    {
     "data": {
      "text/plain": [
       "'odd'"
      ]
     },
     "execution_count": 23,
     "metadata": {},
     "output_type": "execute_result"
    }
   ],
   "source": [
    "oddeve =  lambda x : 'odd' if x%2 else 'even'\n",
    "oddeve(45)"
   ]
  },
  {
   "cell_type": "code",
   "execution_count": 24,
   "metadata": {},
   "outputs": [],
   "source": [
    "#with the help of lambda function can be passed as argument"
   ]
  },
  {
   "cell_type": "code",
   "execution_count": 25,
   "metadata": {},
   "outputs": [
    {
     "data": {
      "text/plain": [
       "12"
      ]
     },
     "execution_count": 25,
     "metadata": {},
     "output_type": "execute_result"
    }
   ],
   "source": [
    "k=lambda x, y :x*y\n",
    "k(3,4)"
   ]
  },
  {
   "cell_type": "code",
   "execution_count": 26,
   "metadata": {},
   "outputs": [
    {
     "name": "stdout",
     "output_type": "stream",
     "text": [
      "hi\n"
     ]
    }
   ],
   "source": [
    "k=lambda  :print('hi')\n",
    "\n",
    "\n",
    "k1=k()"
   ]
  },
  {
   "cell_type": "code",
   "execution_count": 27,
   "metadata": {},
   "outputs": [
    {
     "name": "stdout",
     "output_type": "stream",
     "text": [
      "hi\n",
      "None\n"
     ]
    }
   ],
   "source": [
    "m=k()\n",
    "print(m)"
   ]
  },
  {
   "cell_type": "code",
   "execution_count": 28,
   "metadata": {},
   "outputs": [],
   "source": [
    "\n",
    "# scope of variable\n",
    "# global\n",
    "# local\n",
    "#non local\n"
   ]
  },
  {
   "cell_type": "code",
   "execution_count": 29,
   "metadata": {},
   "outputs": [
    {
     "name": "stdout",
     "output_type": "stream",
     "text": [
      "10\n"
     ]
    }
   ],
   "source": [
    "x=10\n",
    "def abc():\n",
    "    print(x)\n",
    "abc()    "
   ]
  },
  {
   "cell_type": "code",
   "execution_count": 30,
   "metadata": {},
   "outputs": [
    {
     "name": "stdout",
     "output_type": "stream",
     "text": [
      "10\n",
      "30\n"
     ]
    }
   ],
   "source": [
    "x=10\n",
    "def abc():\n",
    "    global x\n",
    "    x=30\n",
    "print(x)\n",
    "abc()\n",
    "print(x)    "
   ]
  },
  {
   "cell_type": "code",
   "execution_count": 32,
   "metadata": {},
   "outputs": [
    {
     "name": "stdout",
     "output_type": "stream",
     "text": [
      "10\n",
      "10\n"
     ]
    }
   ],
   "source": [
    "x=10\n",
    "def abc():\n",
    "    \n",
    "    x=30\n",
    "print(x)\n",
    "abc()\n",
    "print(x)    "
   ]
  },
  {
   "cell_type": "code",
   "execution_count": 35,
   "metadata": {},
   "outputs": [
    {
     "name": "stdout",
     "output_type": "stream",
     "text": [
      "10\n",
      "From xyz 30\n",
      "15\n",
      "30\n"
     ]
    }
   ],
   "source": [
    "x=10\n",
    "def abc():\n",
    "    global x\n",
    "    x=30\n",
    "    y=15\n",
    "    def xyz():\n",
    "        y=28\n",
    "        print('From xyz',x)\n",
    "    xyz() \n",
    "    print(y)       \n",
    "print(x)\n",
    "abc()\n",
    "print(x)    "
   ]
  },
  {
   "cell_type": "code",
   "execution_count": 36,
   "metadata": {},
   "outputs": [
    {
     "name": "stdout",
     "output_type": "stream",
     "text": [
      "10\n",
      "From xyz 30\n",
      "28\n",
      "30\n"
     ]
    }
   ],
   "source": [
    "x=10\n",
    "def abc():\n",
    "    global x\n",
    "    x=30\n",
    "    y=15\n",
    "    def xyz():\n",
    "        nonlocal y\n",
    "        y=28\n",
    "        print('From xyz',x)\n",
    "    xyz() \n",
    "    print(y)       \n",
    "print(x)\n",
    "abc()\n",
    "print(x)    "
   ]
  },
  {
   "cell_type": "code",
   "execution_count": null,
   "metadata": {},
   "outputs": [],
   "source": []
  }
 ],
 "metadata": {
  "kernelspec": {
   "display_name": "Python 3",
   "language": "python",
   "name": "python3"
  },
  "language_info": {
   "codemirror_mode": {
    "name": "ipython",
    "version": 3
   },
   "file_extension": ".py",
   "mimetype": "text/x-python",
   "name": "python",
   "nbconvert_exporter": "python",
   "pygments_lexer": "ipython3",
   "version": "3.10.10"
  },
  "orig_nbformat": 4
 },
 "nbformat": 4,
 "nbformat_minor": 2
}
